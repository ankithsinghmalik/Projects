{
  "nbformat": 4,
  "nbformat_minor": 0,
  "metadata": {
    "colab": {
      "name": "Sensor readings from a wall-following Robot",
      "provenance": [],
      "collapsed_sections": []
    },
    "kernelspec": {
      "name": "python3",
      "display_name": "Python 3"
    }
  },
  "cells": [
    {
      "cell_type": "code",
      "metadata": {
        "id": "aTnxZ5aMBKRQ",
        "colab_type": "code",
        "colab": {}
      },
      "source": [
        "import pandas as pd\n",
        "from tensorflow.keras.layers import Dropout,BatchNormalization,Dense\n",
        "import tensorflow as tf\n",
        "import numpy as np\n",
        "from tensorflow.keras.models import Sequential\n",
        "from sklearn.model_selection import train_test_split\n",
        "from keras.utils import np_utils\n",
        "from sklearn.preprocessing import OneHotEncoder"
      ],
      "execution_count": 1,
      "outputs": []
    },
    {
      "cell_type": "code",
      "metadata": {
        "id": "nPDf32qJIFj_",
        "colab_type": "code",
        "colab": {}
      },
      "source": [
        "data = pd.read_csv(\"/content/sensor_readings_24.csv\") #reading the data"
      ],
      "execution_count": 3,
      "outputs": []
    },
    {
      "cell_type": "code",
      "metadata": {
        "id": "2p2aM7KgI6Vg",
        "colab_type": "code",
        "colab": {
          "base_uri": "https://localhost:8080/",
          "height": 417
        },
        "outputId": "9129ad1f-4528-49ab-c897-c1d2f5bebe4b"
      },
      "source": [
        "data.head()"
      ],
      "execution_count": 4,
      "outputs": [
        {
          "output_type": "execute_result",
          "data": {
            "text/html": [
              "<div>\n",
              "<style scoped>\n",
              "    .dataframe tbody tr th:only-of-type {\n",
              "        vertical-align: middle;\n",
              "    }\n",
              "\n",
              "    .dataframe tbody tr th {\n",
              "        vertical-align: top;\n",
              "    }\n",
              "\n",
              "    .dataframe thead th {\n",
              "        text-align: right;\n",
              "    }\n",
              "</style>\n",
              "<table border=\"1\" class=\"dataframe\">\n",
              "  <thead>\n",
              "    <tr style=\"text-align: right;\">\n",
              "      <th></th>\n",
              "      <th>0.438</th>\n",
              "      <th>0.498</th>\n",
              "      <th>3.625</th>\n",
              "      <th>3.645</th>\n",
              "      <th>5.000</th>\n",
              "      <th>2.918</th>\n",
              "      <th>5.000.1</th>\n",
              "      <th>2.351</th>\n",
              "      <th>2.332</th>\n",
              "      <th>2.643</th>\n",
              "      <th>1.698</th>\n",
              "      <th>1.687</th>\n",
              "      <th>1.698.1</th>\n",
              "      <th>1.717</th>\n",
              "      <th>1.744</th>\n",
              "      <th>0.593</th>\n",
              "      <th>0.502</th>\n",
              "      <th>0.493</th>\n",
              "      <th>0.504</th>\n",
              "      <th>0.445</th>\n",
              "      <th>0.431</th>\n",
              "      <th>0.444</th>\n",
              "      <th>0.440</th>\n",
              "      <th>0.429</th>\n",
              "      <th>Slight-Right-Turn</th>\n",
              "    </tr>\n",
              "  </thead>\n",
              "  <tbody>\n",
              "    <tr>\n",
              "      <th>0</th>\n",
              "      <td>0.438</td>\n",
              "      <td>0.498</td>\n",
              "      <td>3.625</td>\n",
              "      <td>3.648</td>\n",
              "      <td>5.0</td>\n",
              "      <td>2.918</td>\n",
              "      <td>5.0</td>\n",
              "      <td>2.637</td>\n",
              "      <td>2.332</td>\n",
              "      <td>2.649</td>\n",
              "      <td>1.695</td>\n",
              "      <td>1.687</td>\n",
              "      <td>1.695</td>\n",
              "      <td>1.720</td>\n",
              "      <td>1.744</td>\n",
              "      <td>0.592</td>\n",
              "      <td>0.502</td>\n",
              "      <td>0.493</td>\n",
              "      <td>0.504</td>\n",
              "      <td>0.449</td>\n",
              "      <td>0.431</td>\n",
              "      <td>0.444</td>\n",
              "      <td>0.443</td>\n",
              "      <td>0.429</td>\n",
              "      <td>Slight-Right-Turn</td>\n",
              "    </tr>\n",
              "    <tr>\n",
              "      <th>1</th>\n",
              "      <td>0.438</td>\n",
              "      <td>0.498</td>\n",
              "      <td>3.625</td>\n",
              "      <td>3.629</td>\n",
              "      <td>5.0</td>\n",
              "      <td>2.918</td>\n",
              "      <td>5.0</td>\n",
              "      <td>2.637</td>\n",
              "      <td>2.334</td>\n",
              "      <td>2.643</td>\n",
              "      <td>1.696</td>\n",
              "      <td>1.687</td>\n",
              "      <td>1.695</td>\n",
              "      <td>1.717</td>\n",
              "      <td>1.744</td>\n",
              "      <td>0.593</td>\n",
              "      <td>0.502</td>\n",
              "      <td>0.493</td>\n",
              "      <td>0.504</td>\n",
              "      <td>0.449</td>\n",
              "      <td>0.431</td>\n",
              "      <td>0.444</td>\n",
              "      <td>0.446</td>\n",
              "      <td>0.429</td>\n",
              "      <td>Slight-Right-Turn</td>\n",
              "    </tr>\n",
              "    <tr>\n",
              "      <th>2</th>\n",
              "      <td>0.437</td>\n",
              "      <td>0.501</td>\n",
              "      <td>3.625</td>\n",
              "      <td>3.626</td>\n",
              "      <td>5.0</td>\n",
              "      <td>2.918</td>\n",
              "      <td>5.0</td>\n",
              "      <td>2.353</td>\n",
              "      <td>2.334</td>\n",
              "      <td>2.642</td>\n",
              "      <td>1.730</td>\n",
              "      <td>1.687</td>\n",
              "      <td>1.695</td>\n",
              "      <td>1.717</td>\n",
              "      <td>1.744</td>\n",
              "      <td>0.593</td>\n",
              "      <td>0.502</td>\n",
              "      <td>0.493</td>\n",
              "      <td>0.504</td>\n",
              "      <td>0.449</td>\n",
              "      <td>0.431</td>\n",
              "      <td>0.444</td>\n",
              "      <td>0.444</td>\n",
              "      <td>0.429</td>\n",
              "      <td>Slight-Right-Turn</td>\n",
              "    </tr>\n",
              "    <tr>\n",
              "      <th>3</th>\n",
              "      <td>0.438</td>\n",
              "      <td>0.498</td>\n",
              "      <td>3.626</td>\n",
              "      <td>3.629</td>\n",
              "      <td>5.0</td>\n",
              "      <td>2.918</td>\n",
              "      <td>5.0</td>\n",
              "      <td>2.640</td>\n",
              "      <td>2.334</td>\n",
              "      <td>2.639</td>\n",
              "      <td>1.696</td>\n",
              "      <td>1.687</td>\n",
              "      <td>1.695</td>\n",
              "      <td>1.717</td>\n",
              "      <td>1.744</td>\n",
              "      <td>0.592</td>\n",
              "      <td>0.502</td>\n",
              "      <td>0.493</td>\n",
              "      <td>0.504</td>\n",
              "      <td>0.449</td>\n",
              "      <td>0.431</td>\n",
              "      <td>0.444</td>\n",
              "      <td>0.441</td>\n",
              "      <td>0.429</td>\n",
              "      <td>Slight-Right-Turn</td>\n",
              "    </tr>\n",
              "    <tr>\n",
              "      <th>4</th>\n",
              "      <td>0.439</td>\n",
              "      <td>0.498</td>\n",
              "      <td>3.626</td>\n",
              "      <td>3.629</td>\n",
              "      <td>5.0</td>\n",
              "      <td>2.918</td>\n",
              "      <td>5.0</td>\n",
              "      <td>2.633</td>\n",
              "      <td>2.334</td>\n",
              "      <td>2.645</td>\n",
              "      <td>1.705</td>\n",
              "      <td>1.686</td>\n",
              "      <td>1.694</td>\n",
              "      <td>1.719</td>\n",
              "      <td>1.744</td>\n",
              "      <td>0.589</td>\n",
              "      <td>0.502</td>\n",
              "      <td>0.493</td>\n",
              "      <td>0.504</td>\n",
              "      <td>0.446</td>\n",
              "      <td>0.431</td>\n",
              "      <td>0.444</td>\n",
              "      <td>0.444</td>\n",
              "      <td>0.430</td>\n",
              "      <td>Slight-Right-Turn</td>\n",
              "    </tr>\n",
              "  </tbody>\n",
              "</table>\n",
              "</div>"
            ],
            "text/plain": [
              "   0.438  0.498  3.625  3.645  ...  0.444  0.440  0.429  Slight-Right-Turn\n",
              "0  0.438  0.498  3.625  3.648  ...  0.444  0.443  0.429  Slight-Right-Turn\n",
              "1  0.438  0.498  3.625  3.629  ...  0.444  0.446  0.429  Slight-Right-Turn\n",
              "2  0.437  0.501  3.625  3.626  ...  0.444  0.444  0.429  Slight-Right-Turn\n",
              "3  0.438  0.498  3.626  3.629  ...  0.444  0.441  0.429  Slight-Right-Turn\n",
              "4  0.439  0.498  3.626  3.629  ...  0.444  0.444  0.430  Slight-Right-Turn\n",
              "\n",
              "[5 rows x 25 columns]"
            ]
          },
          "metadata": {
            "tags": []
          },
          "execution_count": 4
        }
      ]
    },
    {
      "cell_type": "code",
      "metadata": {
        "id": "8C5f282oJJKr",
        "colab_type": "code",
        "colab": {
          "base_uri": "https://localhost:8080/",
          "height": 554
        },
        "outputId": "950c271c-5c1a-4e9a-bd99-f609bdf445ae"
      },
      "source": [
        "data.info()"
      ],
      "execution_count": 5,
      "outputs": [
        {
          "output_type": "stream",
          "text": [
            "<class 'pandas.core.frame.DataFrame'>\n",
            "RangeIndex: 5455 entries, 0 to 5454\n",
            "Data columns (total 25 columns):\n",
            " #   Column             Non-Null Count  Dtype  \n",
            "---  ------             --------------  -----  \n",
            " 0   0.438              5455 non-null   float64\n",
            " 1   0.498              5455 non-null   float64\n",
            " 2   3.625              5455 non-null   float64\n",
            " 3   3.645              5455 non-null   float64\n",
            " 4   5.000              5455 non-null   float64\n",
            " 5   2.918              5455 non-null   float64\n",
            " 6   5.000.1            5455 non-null   float64\n",
            " 7   2.351              5455 non-null   float64\n",
            " 8   2.332              5455 non-null   float64\n",
            " 9   2.643              5455 non-null   float64\n",
            " 10  1.698              5455 non-null   float64\n",
            " 11  1.687              5455 non-null   float64\n",
            " 12  1.698.1            5455 non-null   float64\n",
            " 13  1.717              5455 non-null   float64\n",
            " 14  1.744              5455 non-null   float64\n",
            " 15  0.593              5455 non-null   float64\n",
            " 16  0.502              5455 non-null   float64\n",
            " 17  0.493              5455 non-null   float64\n",
            " 18  0.504              5455 non-null   float64\n",
            " 19  0.445              5455 non-null   float64\n",
            " 20  0.431              5455 non-null   float64\n",
            " 21  0.444              5455 non-null   float64\n",
            " 22  0.440              5455 non-null   float64\n",
            " 23  0.429              5455 non-null   float64\n",
            " 24  Slight-Right-Turn  5455 non-null   object \n",
            "dtypes: float64(24), object(1)\n",
            "memory usage: 1.0+ MB\n"
          ],
          "name": "stdout"
        }
      ]
    },
    {
      "cell_type": "code",
      "metadata": {
        "id": "_qO3itndJNnk",
        "colab_type": "code",
        "colab": {
          "base_uri": "https://localhost:8080/",
          "height": 304
        },
        "outputId": "9c1538bc-543e-4aba-bf25-ae715ec04835"
      },
      "source": [
        "data.describe()"
      ],
      "execution_count": 6,
      "outputs": [
        {
          "output_type": "execute_result",
          "data": {
            "text/html": [
              "<div>\n",
              "<style scoped>\n",
              "    .dataframe tbody tr th:only-of-type {\n",
              "        vertical-align: middle;\n",
              "    }\n",
              "\n",
              "    .dataframe tbody tr th {\n",
              "        vertical-align: top;\n",
              "    }\n",
              "\n",
              "    .dataframe thead th {\n",
              "        text-align: right;\n",
              "    }\n",
              "</style>\n",
              "<table border=\"1\" class=\"dataframe\">\n",
              "  <thead>\n",
              "    <tr style=\"text-align: right;\">\n",
              "      <th></th>\n",
              "      <th>0.438</th>\n",
              "      <th>0.498</th>\n",
              "      <th>3.625</th>\n",
              "      <th>3.645</th>\n",
              "      <th>5.000</th>\n",
              "      <th>2.918</th>\n",
              "      <th>5.000.1</th>\n",
              "      <th>2.351</th>\n",
              "      <th>2.332</th>\n",
              "      <th>2.643</th>\n",
              "      <th>1.698</th>\n",
              "      <th>1.687</th>\n",
              "      <th>1.698.1</th>\n",
              "      <th>1.717</th>\n",
              "      <th>1.744</th>\n",
              "      <th>0.593</th>\n",
              "      <th>0.502</th>\n",
              "      <th>0.493</th>\n",
              "      <th>0.504</th>\n",
              "      <th>0.445</th>\n",
              "      <th>0.431</th>\n",
              "      <th>0.444</th>\n",
              "      <th>0.440</th>\n",
              "      <th>0.429</th>\n",
              "    </tr>\n",
              "  </thead>\n",
              "  <tbody>\n",
              "    <tr>\n",
              "      <th>count</th>\n",
              "      <td>5455.000000</td>\n",
              "      <td>5455.000000</td>\n",
              "      <td>5455.000000</td>\n",
              "      <td>5455.000000</td>\n",
              "      <td>5455.000000</td>\n",
              "      <td>5455.000000</td>\n",
              "      <td>5455.000000</td>\n",
              "      <td>5455.000000</td>\n",
              "      <td>5455.000000</td>\n",
              "      <td>5455.000000</td>\n",
              "      <td>5455.000000</td>\n",
              "      <td>5455.000000</td>\n",
              "      <td>5455.000000</td>\n",
              "      <td>5455.000000</td>\n",
              "      <td>5455.000000</td>\n",
              "      <td>5455.000000</td>\n",
              "      <td>5455.000000</td>\n",
              "      <td>5455.00000</td>\n",
              "      <td>5455.000000</td>\n",
              "      <td>5455.000000</td>\n",
              "      <td>5455.000000</td>\n",
              "      <td>5455.000000</td>\n",
              "      <td>5455.000000</td>\n",
              "      <td>5455.000000</td>\n",
              "    </tr>\n",
              "    <tr>\n",
              "      <th>mean</th>\n",
              "      <td>1.471807</td>\n",
              "      <td>2.327378</td>\n",
              "      <td>2.489139</td>\n",
              "      <td>2.796346</td>\n",
              "      <td>2.958178</td>\n",
              "      <td>2.893068</td>\n",
              "      <td>3.350811</td>\n",
              "      <td>2.540431</td>\n",
              "      <td>3.125767</td>\n",
              "      <td>2.832421</td>\n",
              "      <td>2.549554</td>\n",
              "      <td>2.077848</td>\n",
              "      <td>2.125856</td>\n",
              "      <td>2.190573</td>\n",
              "      <td>2.205857</td>\n",
              "      <td>1.202223</td>\n",
              "      <td>0.989921</td>\n",
              "      <td>0.91035</td>\n",
              "      <td>1.058212</td>\n",
              "      <td>1.076436</td>\n",
              "      <td>1.016030</td>\n",
              "      <td>1.778279</td>\n",
              "      <td>1.555250</td>\n",
              "      <td>1.578719</td>\n",
              "    </tr>\n",
              "    <tr>\n",
              "      <th>std</th>\n",
              "      <td>0.802753</td>\n",
              "      <td>1.410058</td>\n",
              "      <td>1.247454</td>\n",
              "      <td>1.309438</td>\n",
              "      <td>1.339062</td>\n",
              "      <td>1.282693</td>\n",
              "      <td>1.413645</td>\n",
              "      <td>1.111653</td>\n",
              "      <td>1.357047</td>\n",
              "      <td>1.307960</td>\n",
              "      <td>1.382107</td>\n",
              "      <td>1.249404</td>\n",
              "      <td>1.407285</td>\n",
              "      <td>1.577004</td>\n",
              "      <td>1.715580</td>\n",
              "      <td>1.098638</td>\n",
              "      <td>0.942138</td>\n",
              "      <td>0.88959</td>\n",
              "      <td>1.144711</td>\n",
              "      <td>1.141570</td>\n",
              "      <td>0.887485</td>\n",
              "      <td>1.571726</td>\n",
              "      <td>1.291478</td>\n",
              "      <td>1.150480</td>\n",
              "    </tr>\n",
              "    <tr>\n",
              "      <th>min</th>\n",
              "      <td>0.400000</td>\n",
              "      <td>0.437000</td>\n",
              "      <td>0.470000</td>\n",
              "      <td>0.833000</td>\n",
              "      <td>1.120000</td>\n",
              "      <td>1.114000</td>\n",
              "      <td>1.122000</td>\n",
              "      <td>0.859000</td>\n",
              "      <td>0.836000</td>\n",
              "      <td>0.810000</td>\n",
              "      <td>0.783000</td>\n",
              "      <td>0.778000</td>\n",
              "      <td>0.770000</td>\n",
              "      <td>0.756000</td>\n",
              "      <td>0.495000</td>\n",
              "      <td>0.424000</td>\n",
              "      <td>0.373000</td>\n",
              "      <td>0.35400</td>\n",
              "      <td>0.340000</td>\n",
              "      <td>0.355000</td>\n",
              "      <td>0.380000</td>\n",
              "      <td>0.370000</td>\n",
              "      <td>0.367000</td>\n",
              "      <td>0.377000</td>\n",
              "    </tr>\n",
              "    <tr>\n",
              "      <th>25%</th>\n",
              "      <td>0.921000</td>\n",
              "      <td>1.362000</td>\n",
              "      <td>1.538500</td>\n",
              "      <td>1.731000</td>\n",
              "      <td>1.774000</td>\n",
              "      <td>1.785500</td>\n",
              "      <td>1.930500</td>\n",
              "      <td>1.618000</td>\n",
              "      <td>1.799500</td>\n",
              "      <td>1.636000</td>\n",
              "      <td>1.579000</td>\n",
              "      <td>1.293000</td>\n",
              "      <td>1.190500</td>\n",
              "      <td>1.031000</td>\n",
              "      <td>0.860000</td>\n",
              "      <td>0.690500</td>\n",
              "      <td>0.581000</td>\n",
              "      <td>0.53000</td>\n",
              "      <td>0.523500</td>\n",
              "      <td>0.542000</td>\n",
              "      <td>0.567000</td>\n",
              "      <td>0.743000</td>\n",
              "      <td>0.792000</td>\n",
              "      <td>0.884000</td>\n",
              "    </tr>\n",
              "    <tr>\n",
              "      <th>50%</th>\n",
              "      <td>1.335000</td>\n",
              "      <td>1.905000</td>\n",
              "      <td>2.064000</td>\n",
              "      <td>2.457000</td>\n",
              "      <td>2.667000</td>\n",
              "      <td>2.682000</td>\n",
              "      <td>3.225000</td>\n",
              "      <td>2.171000</td>\n",
              "      <td>2.802000</td>\n",
              "      <td>2.679000</td>\n",
              "      <td>2.000000</td>\n",
              "      <td>1.689000</td>\n",
              "      <td>1.609000</td>\n",
              "      <td>1.493000</td>\n",
              "      <td>1.328000</td>\n",
              "      <td>0.803000</td>\n",
              "      <td>0.738000</td>\n",
              "      <td>0.68500</td>\n",
              "      <td>0.691000</td>\n",
              "      <td>0.693000</td>\n",
              "      <td>0.764000</td>\n",
              "      <td>1.031000</td>\n",
              "      <td>1.071000</td>\n",
              "      <td>1.289000</td>\n",
              "    </tr>\n",
              "    <tr>\n",
              "      <th>75%</th>\n",
              "      <td>1.814000</td>\n",
              "      <td>2.683000</td>\n",
              "      <td>2.739000</td>\n",
              "      <td>4.094000</td>\n",
              "      <td>4.314000</td>\n",
              "      <td>3.835500</td>\n",
              "      <td>5.000000</td>\n",
              "      <td>3.193000</td>\n",
              "      <td>5.000000</td>\n",
              "      <td>3.526500</td>\n",
              "      <td>3.217500</td>\n",
              "      <td>2.283000</td>\n",
              "      <td>2.358500</td>\n",
              "      <td>2.739500</td>\n",
              "      <td>4.436500</td>\n",
              "      <td>1.159000</td>\n",
              "      <td>0.913000</td>\n",
              "      <td>0.83700</td>\n",
              "      <td>0.857000</td>\n",
              "      <td>0.863000</td>\n",
              "      <td>1.002500</td>\n",
              "      <td>2.068500</td>\n",
              "      <td>1.560000</td>\n",
              "      <td>1.657500</td>\n",
              "    </tr>\n",
              "    <tr>\n",
              "      <th>max</th>\n",
              "      <td>5.000000</td>\n",
              "      <td>5.025000</td>\n",
              "      <td>5.029000</td>\n",
              "      <td>5.017000</td>\n",
              "      <td>5.000000</td>\n",
              "      <td>5.005000</td>\n",
              "      <td>5.008000</td>\n",
              "      <td>5.087000</td>\n",
              "      <td>5.000000</td>\n",
              "      <td>5.022000</td>\n",
              "      <td>5.019000</td>\n",
              "      <td>5.000000</td>\n",
              "      <td>5.003000</td>\n",
              "      <td>5.000000</td>\n",
              "      <td>5.000000</td>\n",
              "      <td>5.000000</td>\n",
              "      <td>5.000000</td>\n",
              "      <td>5.00000</td>\n",
              "      <td>5.000000</td>\n",
              "      <td>5.000000</td>\n",
              "      <td>5.000000</td>\n",
              "      <td>5.000000</td>\n",
              "      <td>5.000000</td>\n",
              "      <td>5.000000</td>\n",
              "    </tr>\n",
              "  </tbody>\n",
              "</table>\n",
              "</div>"
            ],
            "text/plain": [
              "             0.438        0.498  ...        0.440        0.429\n",
              "count  5455.000000  5455.000000  ...  5455.000000  5455.000000\n",
              "mean      1.471807     2.327378  ...     1.555250     1.578719\n",
              "std       0.802753     1.410058  ...     1.291478     1.150480\n",
              "min       0.400000     0.437000  ...     0.367000     0.377000\n",
              "25%       0.921000     1.362000  ...     0.792000     0.884000\n",
              "50%       1.335000     1.905000  ...     1.071000     1.289000\n",
              "75%       1.814000     2.683000  ...     1.560000     1.657500\n",
              "max       5.000000     5.025000  ...     5.000000     5.000000\n",
              "\n",
              "[8 rows x 24 columns]"
            ]
          },
          "metadata": {
            "tags": []
          },
          "execution_count": 6
        }
      ]
    },
    {
      "cell_type": "code",
      "metadata": {
        "id": "5VeEp6ufJhM2",
        "colab_type": "code",
        "colab": {
          "base_uri": "https://localhost:8080/",
          "height": 101
        },
        "outputId": "c831f8cc-d0d5-4bbb-ef2c-b317211ab6e1"
      },
      "source": [
        "data['Slight-Right-Turn'].value_counts()"
      ],
      "execution_count": 7,
      "outputs": [
        {
          "output_type": "execute_result",
          "data": {
            "text/plain": [
              "Move-Forward         2205\n",
              "Sharp-Right-Turn     2097\n",
              "Slight-Right-Turn     825\n",
              "Slight-Left-Turn      328\n",
              "Name: Slight-Right-Turn, dtype: int64"
            ]
          },
          "metadata": {
            "tags": []
          },
          "execution_count": 7
        }
      ]
    },
    {
      "cell_type": "code",
      "metadata": {
        "id": "kSa8seg0ebEk",
        "colab_type": "code",
        "colab": {}
      },
      "source": [
        "x=data.iloc[:,:-1]\n",
        "y = data.iloc[:,-1]"
      ],
      "execution_count": 8,
      "outputs": []
    },
    {
      "cell_type": "code",
      "metadata": {
        "id": "nysSOLhVD5CH",
        "colab_type": "code",
        "colab": {
          "base_uri": "https://localhost:8080/",
          "height": 422
        },
        "outputId": "5ea53c98-53ea-479d-f005-41a82f139449"
      },
      "source": [
        "x"
      ],
      "execution_count": 9,
      "outputs": [
        {
          "output_type": "execute_result",
          "data": {
            "text/html": [
              "<div>\n",
              "<style scoped>\n",
              "    .dataframe tbody tr th:only-of-type {\n",
              "        vertical-align: middle;\n",
              "    }\n",
              "\n",
              "    .dataframe tbody tr th {\n",
              "        vertical-align: top;\n",
              "    }\n",
              "\n",
              "    .dataframe thead th {\n",
              "        text-align: right;\n",
              "    }\n",
              "</style>\n",
              "<table border=\"1\" class=\"dataframe\">\n",
              "  <thead>\n",
              "    <tr style=\"text-align: right;\">\n",
              "      <th></th>\n",
              "      <th>0.438</th>\n",
              "      <th>0.498</th>\n",
              "      <th>3.625</th>\n",
              "      <th>3.645</th>\n",
              "      <th>5.000</th>\n",
              "      <th>2.918</th>\n",
              "      <th>5.000.1</th>\n",
              "      <th>2.351</th>\n",
              "      <th>2.332</th>\n",
              "      <th>2.643</th>\n",
              "      <th>1.698</th>\n",
              "      <th>1.687</th>\n",
              "      <th>1.698.1</th>\n",
              "      <th>1.717</th>\n",
              "      <th>1.744</th>\n",
              "      <th>0.593</th>\n",
              "      <th>0.502</th>\n",
              "      <th>0.493</th>\n",
              "      <th>0.504</th>\n",
              "      <th>0.445</th>\n",
              "      <th>0.431</th>\n",
              "      <th>0.444</th>\n",
              "      <th>0.440</th>\n",
              "      <th>0.429</th>\n",
              "    </tr>\n",
              "  </thead>\n",
              "  <tbody>\n",
              "    <tr>\n",
              "      <th>0</th>\n",
              "      <td>0.438</td>\n",
              "      <td>0.498</td>\n",
              "      <td>3.625</td>\n",
              "      <td>3.648</td>\n",
              "      <td>5.000</td>\n",
              "      <td>2.918</td>\n",
              "      <td>5.000</td>\n",
              "      <td>2.637</td>\n",
              "      <td>2.332</td>\n",
              "      <td>2.649</td>\n",
              "      <td>1.695</td>\n",
              "      <td>1.687</td>\n",
              "      <td>1.695</td>\n",
              "      <td>1.720</td>\n",
              "      <td>1.744</td>\n",
              "      <td>0.592</td>\n",
              "      <td>0.502</td>\n",
              "      <td>0.493</td>\n",
              "      <td>0.504</td>\n",
              "      <td>0.449</td>\n",
              "      <td>0.431</td>\n",
              "      <td>0.444</td>\n",
              "      <td>0.443</td>\n",
              "      <td>0.429</td>\n",
              "    </tr>\n",
              "    <tr>\n",
              "      <th>1</th>\n",
              "      <td>0.438</td>\n",
              "      <td>0.498</td>\n",
              "      <td>3.625</td>\n",
              "      <td>3.629</td>\n",
              "      <td>5.000</td>\n",
              "      <td>2.918</td>\n",
              "      <td>5.000</td>\n",
              "      <td>2.637</td>\n",
              "      <td>2.334</td>\n",
              "      <td>2.643</td>\n",
              "      <td>1.696</td>\n",
              "      <td>1.687</td>\n",
              "      <td>1.695</td>\n",
              "      <td>1.717</td>\n",
              "      <td>1.744</td>\n",
              "      <td>0.593</td>\n",
              "      <td>0.502</td>\n",
              "      <td>0.493</td>\n",
              "      <td>0.504</td>\n",
              "      <td>0.449</td>\n",
              "      <td>0.431</td>\n",
              "      <td>0.444</td>\n",
              "      <td>0.446</td>\n",
              "      <td>0.429</td>\n",
              "    </tr>\n",
              "    <tr>\n",
              "      <th>2</th>\n",
              "      <td>0.437</td>\n",
              "      <td>0.501</td>\n",
              "      <td>3.625</td>\n",
              "      <td>3.626</td>\n",
              "      <td>5.000</td>\n",
              "      <td>2.918</td>\n",
              "      <td>5.000</td>\n",
              "      <td>2.353</td>\n",
              "      <td>2.334</td>\n",
              "      <td>2.642</td>\n",
              "      <td>1.730</td>\n",
              "      <td>1.687</td>\n",
              "      <td>1.695</td>\n",
              "      <td>1.717</td>\n",
              "      <td>1.744</td>\n",
              "      <td>0.593</td>\n",
              "      <td>0.502</td>\n",
              "      <td>0.493</td>\n",
              "      <td>0.504</td>\n",
              "      <td>0.449</td>\n",
              "      <td>0.431</td>\n",
              "      <td>0.444</td>\n",
              "      <td>0.444</td>\n",
              "      <td>0.429</td>\n",
              "    </tr>\n",
              "    <tr>\n",
              "      <th>3</th>\n",
              "      <td>0.438</td>\n",
              "      <td>0.498</td>\n",
              "      <td>3.626</td>\n",
              "      <td>3.629</td>\n",
              "      <td>5.000</td>\n",
              "      <td>2.918</td>\n",
              "      <td>5.000</td>\n",
              "      <td>2.640</td>\n",
              "      <td>2.334</td>\n",
              "      <td>2.639</td>\n",
              "      <td>1.696</td>\n",
              "      <td>1.687</td>\n",
              "      <td>1.695</td>\n",
              "      <td>1.717</td>\n",
              "      <td>1.744</td>\n",
              "      <td>0.592</td>\n",
              "      <td>0.502</td>\n",
              "      <td>0.493</td>\n",
              "      <td>0.504</td>\n",
              "      <td>0.449</td>\n",
              "      <td>0.431</td>\n",
              "      <td>0.444</td>\n",
              "      <td>0.441</td>\n",
              "      <td>0.429</td>\n",
              "    </tr>\n",
              "    <tr>\n",
              "      <th>4</th>\n",
              "      <td>0.439</td>\n",
              "      <td>0.498</td>\n",
              "      <td>3.626</td>\n",
              "      <td>3.629</td>\n",
              "      <td>5.000</td>\n",
              "      <td>2.918</td>\n",
              "      <td>5.000</td>\n",
              "      <td>2.633</td>\n",
              "      <td>2.334</td>\n",
              "      <td>2.645</td>\n",
              "      <td>1.705</td>\n",
              "      <td>1.686</td>\n",
              "      <td>1.694</td>\n",
              "      <td>1.719</td>\n",
              "      <td>1.744</td>\n",
              "      <td>0.589</td>\n",
              "      <td>0.502</td>\n",
              "      <td>0.493</td>\n",
              "      <td>0.504</td>\n",
              "      <td>0.446</td>\n",
              "      <td>0.431</td>\n",
              "      <td>0.444</td>\n",
              "      <td>0.444</td>\n",
              "      <td>0.430</td>\n",
              "    </tr>\n",
              "    <tr>\n",
              "      <th>...</th>\n",
              "      <td>...</td>\n",
              "      <td>...</td>\n",
              "      <td>...</td>\n",
              "      <td>...</td>\n",
              "      <td>...</td>\n",
              "      <td>...</td>\n",
              "      <td>...</td>\n",
              "      <td>...</td>\n",
              "      <td>...</td>\n",
              "      <td>...</td>\n",
              "      <td>...</td>\n",
              "      <td>...</td>\n",
              "      <td>...</td>\n",
              "      <td>...</td>\n",
              "      <td>...</td>\n",
              "      <td>...</td>\n",
              "      <td>...</td>\n",
              "      <td>...</td>\n",
              "      <td>...</td>\n",
              "      <td>...</td>\n",
              "      <td>...</td>\n",
              "      <td>...</td>\n",
              "      <td>...</td>\n",
              "      <td>...</td>\n",
              "    </tr>\n",
              "    <tr>\n",
              "      <th>5450</th>\n",
              "      <td>0.910</td>\n",
              "      <td>5.000</td>\n",
              "      <td>3.997</td>\n",
              "      <td>2.785</td>\n",
              "      <td>2.770</td>\n",
              "      <td>2.572</td>\n",
              "      <td>2.433</td>\n",
              "      <td>1.087</td>\n",
              "      <td>1.772</td>\n",
              "      <td>1.040</td>\n",
              "      <td>1.024</td>\n",
              "      <td>1.057</td>\n",
              "      <td>1.285</td>\n",
              "      <td>1.285</td>\n",
              "      <td>5.000</td>\n",
              "      <td>0.660</td>\n",
              "      <td>0.648</td>\n",
              "      <td>0.657</td>\n",
              "      <td>0.686</td>\n",
              "      <td>5.000</td>\n",
              "      <td>1.045</td>\n",
              "      <td>5.000</td>\n",
              "      <td>5.000</td>\n",
              "      <td>1.562</td>\n",
              "    </tr>\n",
              "    <tr>\n",
              "      <th>5451</th>\n",
              "      <td>0.926</td>\n",
              "      <td>5.000</td>\n",
              "      <td>4.015</td>\n",
              "      <td>2.792</td>\n",
              "      <td>2.777</td>\n",
              "      <td>2.571</td>\n",
              "      <td>1.768</td>\n",
              "      <td>1.071</td>\n",
              "      <td>1.762</td>\n",
              "      <td>1.021</td>\n",
              "      <td>1.005</td>\n",
              "      <td>1.044</td>\n",
              "      <td>1.269</td>\n",
              "      <td>1.266</td>\n",
              "      <td>0.894</td>\n",
              "      <td>0.652</td>\n",
              "      <td>0.640</td>\n",
              "      <td>0.649</td>\n",
              "      <td>1.593</td>\n",
              "      <td>1.616</td>\n",
              "      <td>1.058</td>\n",
              "      <td>5.000</td>\n",
              "      <td>5.000</td>\n",
              "      <td>1.085</td>\n",
              "    </tr>\n",
              "    <tr>\n",
              "      <th>5452</th>\n",
              "      <td>0.937</td>\n",
              "      <td>5.000</td>\n",
              "      <td>4.034</td>\n",
              "      <td>2.799</td>\n",
              "      <td>2.784</td>\n",
              "      <td>2.571</td>\n",
              "      <td>1.754</td>\n",
              "      <td>1.053</td>\n",
              "      <td>1.752</td>\n",
              "      <td>1.002</td>\n",
              "      <td>0.987</td>\n",
              "      <td>1.001</td>\n",
              "      <td>1.078</td>\n",
              "      <td>1.246</td>\n",
              "      <td>0.873</td>\n",
              "      <td>0.648</td>\n",
              "      <td>0.633</td>\n",
              "      <td>0.642</td>\n",
              "      <td>0.741</td>\n",
              "      <td>5.000</td>\n",
              "      <td>1.065</td>\n",
              "      <td>5.000</td>\n",
              "      <td>5.000</td>\n",
              "      <td>1.105</td>\n",
              "    </tr>\n",
              "    <tr>\n",
              "      <th>5453</th>\n",
              "      <td>0.945</td>\n",
              "      <td>4.052</td>\n",
              "      <td>4.052</td>\n",
              "      <td>2.809</td>\n",
              "      <td>2.791</td>\n",
              "      <td>2.441</td>\n",
              "      <td>1.757</td>\n",
              "      <td>1.034</td>\n",
              "      <td>1.743</td>\n",
              "      <td>0.983</td>\n",
              "      <td>0.967</td>\n",
              "      <td>0.979</td>\n",
              "      <td>1.055</td>\n",
              "      <td>1.227</td>\n",
              "      <td>5.000</td>\n",
              "      <td>0.641</td>\n",
              "      <td>0.626</td>\n",
              "      <td>0.635</td>\n",
              "      <td>0.754</td>\n",
              "      <td>5.000</td>\n",
              "      <td>1.076</td>\n",
              "      <td>5.000</td>\n",
              "      <td>5.000</td>\n",
              "      <td>1.118</td>\n",
              "    </tr>\n",
              "    <tr>\n",
              "      <th>5454</th>\n",
              "      <td>0.950</td>\n",
              "      <td>4.066</td>\n",
              "      <td>5.000</td>\n",
              "      <td>2.819</td>\n",
              "      <td>2.798</td>\n",
              "      <td>2.570</td>\n",
              "      <td>2.422</td>\n",
              "      <td>1.016</td>\n",
              "      <td>1.739</td>\n",
              "      <td>0.964</td>\n",
              "      <td>0.949</td>\n",
              "      <td>0.956</td>\n",
              "      <td>1.007</td>\n",
              "      <td>1.208</td>\n",
              "      <td>0.854</td>\n",
              "      <td>0.635</td>\n",
              "      <td>0.618</td>\n",
              "      <td>0.628</td>\n",
              "      <td>0.776</td>\n",
              "      <td>5.000</td>\n",
              "      <td>1.083</td>\n",
              "      <td>5.000</td>\n",
              "      <td>5.000</td>\n",
              "      <td>1.168</td>\n",
              "    </tr>\n",
              "  </tbody>\n",
              "</table>\n",
              "<p>5455 rows × 24 columns</p>\n",
              "</div>"
            ],
            "text/plain": [
              "      0.438  0.498  3.625  3.645  5.000  ...  0.445  0.431  0.444  0.440  0.429\n",
              "0     0.438  0.498  3.625  3.648  5.000  ...  0.449  0.431  0.444  0.443  0.429\n",
              "1     0.438  0.498  3.625  3.629  5.000  ...  0.449  0.431  0.444  0.446  0.429\n",
              "2     0.437  0.501  3.625  3.626  5.000  ...  0.449  0.431  0.444  0.444  0.429\n",
              "3     0.438  0.498  3.626  3.629  5.000  ...  0.449  0.431  0.444  0.441  0.429\n",
              "4     0.439  0.498  3.626  3.629  5.000  ...  0.446  0.431  0.444  0.444  0.430\n",
              "...     ...    ...    ...    ...    ...  ...    ...    ...    ...    ...    ...\n",
              "5450  0.910  5.000  3.997  2.785  2.770  ...  5.000  1.045  5.000  5.000  1.562\n",
              "5451  0.926  5.000  4.015  2.792  2.777  ...  1.616  1.058  5.000  5.000  1.085\n",
              "5452  0.937  5.000  4.034  2.799  2.784  ...  5.000  1.065  5.000  5.000  1.105\n",
              "5453  0.945  4.052  4.052  2.809  2.791  ...  5.000  1.076  5.000  5.000  1.118\n",
              "5454  0.950  4.066  5.000  2.819  2.798  ...  5.000  1.083  5.000  5.000  1.168\n",
              "\n",
              "[5455 rows x 24 columns]"
            ]
          },
          "metadata": {
            "tags": []
          },
          "execution_count": 9
        }
      ]
    },
    {
      "cell_type": "code",
      "metadata": {
        "id": "95UZawttD6NB",
        "colab_type": "code",
        "colab": {
          "base_uri": "https://localhost:8080/",
          "height": 218
        },
        "outputId": "894735cf-3b6e-4f33-8715-c3390e63fb69"
      },
      "source": [
        "y"
      ],
      "execution_count": 10,
      "outputs": [
        {
          "output_type": "execute_result",
          "data": {
            "text/plain": [
              "0       Slight-Right-Turn\n",
              "1       Slight-Right-Turn\n",
              "2       Slight-Right-Turn\n",
              "3       Slight-Right-Turn\n",
              "4       Slight-Right-Turn\n",
              "              ...        \n",
              "5450         Move-Forward\n",
              "5451     Sharp-Right-Turn\n",
              "5452     Sharp-Right-Turn\n",
              "5453         Move-Forward\n",
              "5454     Sharp-Right-Turn\n",
              "Name: Slight-Right-Turn, Length: 5455, dtype: object"
            ]
          },
          "metadata": {
            "tags": []
          },
          "execution_count": 10
        }
      ]
    },
    {
      "cell_type": "code",
      "metadata": {
        "id": "1wPuPBp4D-F_",
        "colab_type": "code",
        "colab": {
          "base_uri": "https://localhost:8080/",
          "height": 34
        },
        "outputId": "0364ee1a-334a-42d4-d57b-ba6bd11cecb2"
      },
      "source": [
        "x.shape"
      ],
      "execution_count": 11,
      "outputs": [
        {
          "output_type": "execute_result",
          "data": {
            "text/plain": [
              "(5455, 24)"
            ]
          },
          "metadata": {
            "tags": []
          },
          "execution_count": 11
        }
      ]
    },
    {
      "cell_type": "code",
      "metadata": {
        "id": "nJkjh-uAF0CC",
        "colab_type": "code",
        "colab": {
          "base_uri": "https://localhost:8080/",
          "height": 34
        },
        "outputId": "9b22ae59-ac2c-430d-83ae-7e6ff5db8bf0"
      },
      "source": [
        "y.shape"
      ],
      "execution_count": 12,
      "outputs": [
        {
          "output_type": "execute_result",
          "data": {
            "text/plain": [
              "(5455,)"
            ]
          },
          "metadata": {
            "tags": []
          },
          "execution_count": 12
        }
      ]
    },
    {
      "cell_type": "code",
      "metadata": {
        "id": "owlML9cvGXb7",
        "colab_type": "code",
        "colab": {}
      },
      "source": [
        "x_train,x_test,y_train,y_test = train_test_split(x,y,test_size=0.3,random_state=0)"
      ],
      "execution_count": 13,
      "outputs": []
    },
    {
      "cell_type": "code",
      "metadata": {
        "id": "BltbcDtCIcug",
        "colab_type": "code",
        "colab": {
          "base_uri": "https://localhost:8080/",
          "height": 101
        },
        "outputId": "5c629090-157b-4229-cd1d-658ba4eaca09"
      },
      "source": [
        "y_train.value_counts() #input are categorical variables\n"
      ],
      "execution_count": 14,
      "outputs": [
        {
          "output_type": "execute_result",
          "data": {
            "text/plain": [
              "Move-Forward         1522\n",
              "Sharp-Right-Turn     1472\n",
              "Slight-Right-Turn     587\n",
              "Slight-Left-Turn      237\n",
              "Name: Slight-Right-Turn, dtype: int64"
            ]
          },
          "metadata": {
            "tags": []
          },
          "execution_count": 14
        }
      ]
    },
    {
      "cell_type": "markdown",
      "metadata": {
        "id": "feecRJCB5HaC",
        "colab_type": "text"
      },
      "source": [
        "changing the categoricals variable to numeric"
      ]
    },
    {
      "cell_type": "code",
      "metadata": {
        "id": "h62DqYctvcO-",
        "colab_type": "code",
        "colab": {}
      },
      "source": [
        "y_train=pd.get_dummies(y_train,sparse=False)\n",
        "y_test = pd.get_dummies(y_test,sparse=False)"
      ],
      "execution_count": 15,
      "outputs": []
    },
    {
      "cell_type": "markdown",
      "metadata": {
        "id": "aJcswK_FGr2l",
        "colab_type": "text"
      },
      "source": [
        "Build neural network"
      ]
    },
    {
      "cell_type": "code",
      "metadata": {
        "id": "vCgq4fK8Gj4i",
        "colab_type": "code",
        "colab": {}
      },
      "source": [
        "model = Sequential()"
      ],
      "execution_count": 16,
      "outputs": []
    },
    {
      "cell_type": "code",
      "metadata": {
        "id": "GrWU03aVGxhZ",
        "colab_type": "code",
        "colab": {}
      },
      "source": [
        "model.add(Dense(32,input_dim=24,activation=None)) #input_layer as we have 24 columns so we give input_dim =24\n",
        "model.add(Dense(64,activation='relu')) #hidden layer\n",
        "model.add(Dense(64,activation='relu')) #hidden layer\n",
        "model.add(Dense(64,activation='relu')) #hidden layer\n",
        "model.add(Dense(4,activation='softmax')) #output layer"
      ],
      "execution_count": 17,
      "outputs": []
    },
    {
      "cell_type": "code",
      "metadata": {
        "id": "hQKvqAwOqSZB",
        "colab_type": "code",
        "colab": {
          "base_uri": "https://localhost:8080/",
          "height": 319
        },
        "outputId": "a17152a7-ae90-426a-aaab-12cdbdce4ef3"
      },
      "source": [
        "model.summary()"
      ],
      "execution_count": 18,
      "outputs": [
        {
          "output_type": "stream",
          "text": [
            "Model: \"sequential\"\n",
            "_________________________________________________________________\n",
            "Layer (type)                 Output Shape              Param #   \n",
            "=================================================================\n",
            "dense (Dense)                (None, 32)                800       \n",
            "_________________________________________________________________\n",
            "dense_1 (Dense)              (None, 64)                2112      \n",
            "_________________________________________________________________\n",
            "dense_2 (Dense)              (None, 64)                4160      \n",
            "_________________________________________________________________\n",
            "dense_3 (Dense)              (None, 64)                4160      \n",
            "_________________________________________________________________\n",
            "dense_4 (Dense)              (None, 4)                 260       \n",
            "=================================================================\n",
            "Total params: 11,492\n",
            "Trainable params: 11,492\n",
            "Non-trainable params: 0\n",
            "_________________________________________________________________\n"
          ],
          "name": "stdout"
        }
      ]
    },
    {
      "cell_type": "code",
      "metadata": {
        "id": "SDVhhPZX18c2",
        "colab_type": "code",
        "colab": {}
      },
      "source": [
        "model.compile(loss='categorical_crossentropy',optimizer='adam',metrics='accuracy')"
      ],
      "execution_count": 19,
      "outputs": []
    },
    {
      "cell_type": "code",
      "metadata": {
        "id": "Y8X89t2l2VoV",
        "colab_type": "code",
        "colab": {
          "base_uri": "https://localhost:8080/",
          "height": 370
        },
        "outputId": "1f23db9b-dced-4890-a6a9-dadf37fe53ac"
      },
      "source": [
        "model.fit(x_train,y_train,epochs=10,batch_size=100)"
      ],
      "execution_count": 20,
      "outputs": [
        {
          "output_type": "stream",
          "text": [
            "Epoch 1/10\n",
            "39/39 [==============================] - 0s 2ms/step - loss: 1.1059 - accuracy: 0.5144\n",
            "Epoch 2/10\n",
            "39/39 [==============================] - 0s 2ms/step - loss: 0.8193 - accuracy: 0.6498\n",
            "Epoch 3/10\n",
            "39/39 [==============================] - 0s 2ms/step - loss: 0.7001 - accuracy: 0.7200\n",
            "Epoch 4/10\n",
            "39/39 [==============================] - 0s 2ms/step - loss: 0.6240 - accuracy: 0.7457\n",
            "Epoch 5/10\n",
            "39/39 [==============================] - 0s 2ms/step - loss: 0.5769 - accuracy: 0.7742\n",
            "Epoch 6/10\n",
            "39/39 [==============================] - 0s 2ms/step - loss: 0.5323 - accuracy: 0.7931\n",
            "Epoch 7/10\n",
            "39/39 [==============================] - 0s 2ms/step - loss: 0.5025 - accuracy: 0.8012\n",
            "Epoch 8/10\n",
            "39/39 [==============================] - 0s 2ms/step - loss: 0.4762 - accuracy: 0.8180\n",
            "Epoch 9/10\n",
            "39/39 [==============================] - 0s 2ms/step - loss: 0.4458 - accuracy: 0.8303\n",
            "Epoch 10/10\n",
            "39/39 [==============================] - 0s 2ms/step - loss: 0.4229 - accuracy: 0.8392\n"
          ],
          "name": "stdout"
        },
        {
          "output_type": "execute_result",
          "data": {
            "text/plain": [
              "<tensorflow.python.keras.callbacks.History at 0x7f2cbd896748>"
            ]
          },
          "metadata": {
            "tags": []
          },
          "execution_count": 20
        }
      ]
    },
    {
      "cell_type": "code",
      "metadata": {
        "id": "1Z_6m2gH2nIZ",
        "colab_type": "code",
        "colab": {
          "base_uri": "https://localhost:8080/",
          "height": 34
        },
        "outputId": "1a4bb6a4-10cb-45ac-cd8a-f0a4b7bdc985"
      },
      "source": [
        "score = model.evaluate(x_test,y_test) #model accuracy"
      ],
      "execution_count": 21,
      "outputs": [
        {
          "output_type": "stream",
          "text": [
            "52/52 [==============================] - 0s 878us/step - loss: 0.4221 - accuracy: 0.8345\n"
          ],
          "name": "stdout"
        }
      ]
    },
    {
      "cell_type": "code",
      "metadata": {
        "id": "IQ1MxvVr3Pvj",
        "colab_type": "code",
        "colab": {}
      },
      "source": [
        ""
      ],
      "execution_count": null,
      "outputs": []
    }
  ]
}